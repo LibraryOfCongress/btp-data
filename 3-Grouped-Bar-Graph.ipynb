{
 "cells": [
  {
   "cell_type": "markdown",
   "metadata": {},
   "source": [
    "# Visualizing the data\n",
    "This notebook contains the code necessary to visualize the processed transcription data; it is divided into two parts: \n",
    "\n",
    "1. Create simple bar graphs,\n",
    "2. Create grouped bar graph.\n",
    "\n",
    "## Instructions for running the code\n",
    "1. Run the cells in order.\n",
    "2. If only creating the grouped bar graph, still run cell 1.1 Import modules.\n",
    "\n",
    "---"
   ]
  },
  {
   "cell_type": "markdown",
   "metadata": {},
   "source": [
    "## 1. Create simple bar graphs\n",
    "This code will create one bar graph for each dataset depicting five most frequent words from that dataset. The four graphs will be displayed in a 2x2 grid."
   ]
  },
  {
   "cell_type": "markdown",
   "metadata": {},
   "source": [
    "### 1.1 Import modules"
   ]
  },
  {
   "cell_type": "code",
   "execution_count": null,
   "metadata": {
    "scrolled": true
   },
   "outputs": [],
   "source": [
    "import matplotlib.pyplot as plt\n",
    "import numpy as np\n",
    "from collections import Counter\n",
    "from operator import itemgetter"
   ]
  },
  {
   "cell_type": "markdown",
   "metadata": {},
   "source": [
    "### 1.2 Import `transcriptions`, which contains a list of lemmas for all datasets"
   ]
  },
  {
   "cell_type": "code",
   "execution_count": null,
   "metadata": {
    "scrolled": true
   },
   "outputs": [],
   "source": [
    "%store -r transcriptions"
   ]
  },
  {
   "cell_type": "markdown",
   "metadata": {},
   "source": [
    "### 1.3 Plot data in bar graphs"
   ]
  },
  {
   "cell_type": "code",
   "execution_count": null,
   "metadata": {
    "scrolled": true
   },
   "outputs": [],
   "source": [
    "fig, axs = plt.subplots(2, 2, figsize=(10, 8))\n",
    "fig.tight_layout(pad=5.0)\n",
    "\n",
    "#This code will loop over the lemmas from each dataset.\n",
    "for i, transcription in enumerate(transcriptions):\n",
    "    title = transcription['title']\n",
    "    text = transcription['text']\n",
    "    word_counts = Counter(text)\n",
    "    #Identify the top 5 words for each dataset.\n",
    "    top_words = word_counts.most_common(5)\n",
    "    words, counts = zip(*top_words)\n",
    "    \n",
    "    #Create a 2x2 grid of bar graphs.\n",
    "    ax = axs[i // 2][i % 2]\n",
    "    ax.bar(words, counts)\n",
    "    ax.set_title(title)\n",
    "    ax.set_xlabel('Words')\n",
    "    ax.set_ylabel('Counts')\n",
    "\n",
    "plt.show()"
   ]
  },
  {
   "cell_type": "markdown",
   "metadata": {},
   "source": [
    "---"
   ]
  },
  {
   "cell_type": "markdown",
   "metadata": {},
   "source": [
    "## 2. Create grouped bar graph\n",
    "This code will create a grouped bar graph showing the usage of the five most frequent words from Susan B. Anthony's speeches by year."
   ]
  },
  {
   "cell_type": "markdown",
   "metadata": {},
   "source": [
    "### 2.1 Import `speech_list` from Anthony speeches"
   ]
  },
  {
   "cell_type": "code",
   "execution_count": null,
   "metadata": {
    "scrolled": true
   },
   "outputs": [],
   "source": [
    "# Load the speech data from the processing notebook\n",
    "%store -r speech_list"
   ]
  },
  {
   "cell_type": "markdown",
   "metadata": {},
   "source": [
    "### 2.2 Group speeches by year"
   ]
  },
  {
   "cell_type": "code",
   "execution_count": null,
   "metadata": {
    "scrolled": true
   },
   "outputs": [],
   "source": [
    "# some years have multiple speeches\n",
    "year_speeches = {}\n",
    "for speech in speech_list:\n",
    "    year = speech[\"year\"]\n",
    "    if year not in year_speeches:\n",
    "        year_speeches[year] = []\n",
    "    year_speeches[year].append(speech)"
   ]
  },
  {
   "cell_type": "markdown",
   "metadata": {},
   "source": [
    "### 2.3 Count word occurences for each year, excluding \"nan\" values"
   ]
  },
  {
   "cell_type": "code",
   "execution_count": null,
   "metadata": {
    "scrolled": true
   },
   "outputs": [],
   "source": [
    "# nan means \"not a number.\" This will exclude cases where there are no speeches for a given year.\n",
    "year_word_counts = {}\n",
    "for year, speeches in year_speeches.items():\n",
    "    word_counts = Counter()\n",
    "    for speech in speeches:\n",
    "        words = [word for word in speech[\"text\"] if word != \"nan\"]\n",
    "        word_counts.update(words)\n",
    "    year_word_counts[year] = word_counts"
   ]
  },
  {
   "cell_type": "markdown",
   "metadata": {},
   "source": [
    "### 2.4 Sum word occurences across all years"
   ]
  },
  {
   "cell_type": "code",
   "execution_count": null,
   "metadata": {
    "scrolled": true
   },
   "outputs": [],
   "source": [
    "word_counts = Counter()\n",
    "for year_counts in year_word_counts.values():\n",
    "    word_counts += year_counts"
   ]
  },
  {
   "cell_type": "markdown",
   "metadata": {},
   "source": [
    "### 2.5 Get and print five most frequent words with most occurences"
   ]
  },
  {
   "cell_type": "code",
   "execution_count": null,
   "metadata": {
    "scrolled": true
   },
   "outputs": [],
   "source": [
    "top_words = [word for word, count in word_counts.most_common(5)]\n",
    "print(top_words)"
   ]
  },
  {
   "cell_type": "markdown",
   "metadata": {},
   "source": [
    "### 2.6 Create grouped bar graph"
   ]
  },
  {
   "cell_type": "code",
   "execution_count": null,
   "metadata": {
    "scrolled": true
   },
   "outputs": [],
   "source": [
    "data = []\n",
    "for i, word in enumerate(top_words):\n",
    "    word_data = []\n",
    "    for year, word_counts in year_word_counts.items():\n",
    "        count = word_counts.get(word, 0)\n",
    "        word_data.append(count)\n",
    "    data.append(word_data)\n",
    "\n",
    "bar_width = 0.15\n",
    "year_labels = list(year_word_counts.keys())\n",
    "x = np.arange(len(year_labels))\n",
    "fig, ax = plt.subplots()\n",
    "colors = ['tab:green', 'tab:orange', 'tab:blue', 'tab:red', 'tab:purple']\n",
    "for i, word_data in enumerate(data):\n",
    "    ax.bar(x - (2 - i) * bar_width, word_data, bar_width, label=top_words[i], color=colors[i])\n",
    "\n",
    "\n",
    "# Set the x-axis tick locations and labels\n",
    "ax.set_xticks(range(len(year_labels)))\n",
    "ax.set_xticklabels([int(year) for year in year_labels])\n",
    "\n",
    "ax.legend()\n",
    "ax.set_xlabel('Year')\n",
    "ax.set_ylabel('Frequency')\n",
    "ax.set_title('Speeches by year and top words')\n",
    "\n",
    "plt.show()"
   ]
  }
 ],
 "metadata": {
  "kernelspec": {
   "display_name": "Python 3 (ipykernel)",
   "language": "python",
   "name": "python3"
  },
  "language_info": {
   "codemirror_mode": {
    "name": "ipython",
    "version": 3
   },
   "file_extension": ".py",
   "mimetype": "text/x-python",
   "name": "python",
   "nbconvert_exporter": "python",
   "pygments_lexer": "ipython3",
   "version": "3.11.4"
  }
 },
 "nbformat": 4,
 "nbformat_minor": 4
}
