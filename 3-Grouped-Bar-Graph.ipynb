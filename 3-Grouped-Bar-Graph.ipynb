{
 "cells": [
  {
   "cell_type": "markdown",
   "metadata": {},
   "source": [
    "Import necessary python modules"
   ]
  },
  {
   "cell_type": "code",
   "execution_count": null,
   "metadata": {},
   "outputs": [],
   "source": [
    "import matplotlib.pyplot as plt\n",
    "import numpy as np\n",
    "from collections import Counter\n",
    "from operator import itemgetter\n",
    "from matplotlib.ticker import MaxNLocator"
   ]
  },
  {
   "cell_type": "markdown",
   "metadata": {},
   "source": [
    "Import list of Anthony speech lemmas"
   ]
  },
  {
   "cell_type": "code",
   "execution_count": null,
   "metadata": {},
   "outputs": [],
   "source": [
    "speeches = speech_list"
   ]
  },
  {
   "cell_type": "markdown",
   "metadata": {},
   "source": [
    "Group speeches by year"
   ]
  },
  {
   "cell_type": "code",
   "execution_count": null,
   "metadata": {},
   "outputs": [],
   "source": [
    "year_speeches = {}\n",
    "for speech in speeches:\n",
    "    year = speech[\"year\"]\n",
    "    if year not in year_speeches:\n",
    "        year_speeches[year] = []\n",
    "    year_speeches[year].append(speech)"
   ]
  },
  {
   "cell_type": "markdown",
   "metadata": {},
   "source": [
    "Count word occurences for each year, excluding \"nan\" values"
   ]
  },
  {
   "cell_type": "code",
   "execution_count": null,
   "metadata": {},
   "outputs": [],
   "source": [
    "year_word_counts = {}\n",
    "for year, speeches in year_speeches.items():\n",
    "    word_counts = Counter()\n",
    "    for speech in speeches:\n",
    "        words = [word for word in speech[\"text\"] if word != \"nan\"]\n",
    "        word_counts.update(words)\n",
    "    year_word_counts[year] = word_counts"
   ]
  },
  {
   "cell_type": "markdown",
   "metadata": {},
   "source": [
    "Sum word occurences across all years"
   ]
  },
  {
   "cell_type": "code",
   "execution_count": null,
   "metadata": {},
   "outputs": [],
   "source": [
    "word_counts = Counter()\n",
    "for year_counts in year_word_counts.values():\n",
    "    word_counts += year_counts"
   ]
  },
  {
   "cell_type": "markdown",
   "metadata": {},
   "source": [
    "Get and print top 5 words with most occurences"
   ]
  },
  {
   "cell_type": "code",
   "execution_count": null,
   "metadata": {},
   "outputs": [],
   "source": [
    "top_words = [word for word, count in word_counts.most_common(5)]\n",
    "print(top_words)"
   ]
  },
  {
   "cell_type": "markdown",
   "metadata": {},
   "source": [
    "Create grouped bar graph"
   ]
  },
  {
   "cell_type": "code",
   "execution_count": null,
   "metadata": {},
   "outputs": [],
   "source": [
    "data = []\n",
    "for i, word in enumerate(top_words):\n",
    "    word_data = []\n",
    "    for year, word_counts in year_word_counts.items():\n",
    "        count = word_counts.get(word, 0)\n",
    "        word_data.append(count)\n",
    "    data.append(word_data)\n",
    "\n",
    "bar_width = 0.15\n",
    "year_labels = list(year_word_counts.keys())\n",
    "x = np.arange(len(year_labels))\n",
    "fig, ax = plt.subplots()\n",
    "colors = ['tab:blue', 'tab:orange', 'tab:green', 'tab:red', 'tab:purple']\n",
    "for i, word_data in enumerate(data):\n",
    "    ax.bar(x - (2 - i) * bar_width, word_data, bar_width, label=top_words[i], color=colors[i])\n",
    "\n",
    "\n",
    "# Set the x-axis tick locations and labels\n",
    "ax.set_xticks(range(len(year_labels)))\n",
    "ax.set_xticklabels([int(year) for year in year_labels])\n",
    "\n",
    "# Set the y-axis tick locations and labels\n",
    "ymin, ymax = ax.get_ylim()\n",
    "yrange = ymax - ymin\n",
    "ax.yaxis.set_major_locator(MaxNLocator(integer=True, prune='upper'))\n",
    "yticks = ax.get_yticks()\n",
    "yticks_int = np.linspace(yticks[0], yticks[-1], len(yticks), dtype=int)\n",
    "yticks_int = [y for y in yticks_int if ymin <= y <= ymax]\n",
    "ax.set_yticks(yticks_int)\n",
    "\n",
    "ax.legend()\n",
    "ax.set_xlabel('Year')\n",
    "ax.set_ylabel('Frequency')\n",
    "ax.set_title('Speeches by year and top words')\n",
    "\n",
    "plt.show()"
   ]
  }
 ],
 "metadata": {
  "kernelspec": {
   "display_name": "Python 3",
   "language": "python",
   "name": "python3"
  },
  "language_info": {
   "codemirror_mode": {
    "name": "ipython",
    "version": 3
   },
   "file_extension": ".py",
   "mimetype": "text/x-python",
   "name": "python",
   "nbconvert_exporter": "python",
   "pygments_lexer": "ipython3",
   "version": "3.7.3"
  }
 },
 "nbformat": 4,
 "nbformat_minor": 2
}
