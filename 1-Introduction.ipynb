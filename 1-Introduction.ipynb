{
 "cells": [
  {
   "cell_type": "markdown",
   "metadata": {},
   "source": [
    "# Introduction\n",
    "\n",
    "---\n",
    "\n",
    "## Formatting tips\n",
    "- Used a horizontal to separate each section (`---`)\n",
    "- Top title uses `#`\n",
    "- Subsections uses `##` with single numbers e.g. 1, 2\n",
    "- subsubsetions uses `###` with decimal numbers e.g. 1.1 etc.\n",
    "- If you're referring something that is actually in the code e.g. a function name or variable name, use back ticks for syntax highlighting\n",
    "## Content\n",
    "- description of how the notebooks are arranged and the layout\n",
    "- short tutorial on how to use a notebook \n",
    "- discuss the optional code blocks and why they are there and how they help contextualize what the code is doing\n",
    "- dataset citations/sources\n",
    "- discussion of the file structure/hierarchy\n",
    "- Brief overview of BTP, transcription campaigns, etc.\n",
    "    - brief overview of the dataset structure/contents \n",
    "- links to BTP loc.gov sites\n",
    "- provide links to specific python libraries used \n",
    "    - `[link text](url)`\n",
    "## Running the notebooks\n",
    "- order, why they have to be run in order\n",
    "## Authorship, credits, CC license?\n"
   ]
  },
  {
   "cell_type": "code",
   "execution_count": null,
   "metadata": {},
   "outputs": [],
   "source": []
  }
 ],
 "metadata": {
  "kernelspec": {
   "display_name": "Python 3 (ipykernel)",
   "language": "python",
   "name": "python3"
  },
  "language_info": {
   "codemirror_mode": {
    "name": "ipython",
    "version": 3
   },
   "file_extension": ".py",
   "mimetype": "text/x-python",
   "name": "python",
   "nbconvert_exporter": "python",
   "pygments_lexer": "ipython3",
   "version": "3.11.2"
  }
 },
 "nbformat": 4,
 "nbformat_minor": 2
}
